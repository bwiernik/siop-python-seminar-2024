{
  "nbformat": 4,
  "nbformat_minor": 0,
  "metadata": {
    "colab": {
      "provenance": [],
      "authorship_tag": "ABX9TyM/soZel23U3MKxsiVGRbmu",
      "include_colab_link": true
    },
    "kernelspec": {
      "name": "python3",
      "display_name": "Python 3"
    },
    "language_info": {
      "name": "python"
    }
  },
  "cells": [
    {
      "cell_type": "markdown",
      "metadata": {
        "id": "view-in-github",
        "colab_type": "text"
      },
      "source": [
        "<a href=\"https://colab.research.google.com/github/egynzhu-personal/siop-python-seminar-2024/blob/main/00_Basic_Syntax.ipynb\" target=\"_parent\"><img src=\"https://colab.research.google.com/assets/colab-badge.svg\" alt=\"Open In Colab\"/></a>"
      ]
    },
    {
      "cell_type": "markdown",
      "source": [
        "**1 Introduction to Python**\n",
        "\n",
        "Python is a versatile, high-level programming language known for its readability and simplicity. It's widely used in various domains including web development, data science, machine learning, and more."
      ],
      "metadata": {
        "id": "24zwSLOhTPnx"
      }
    },
    {
      "cell_type": "markdown",
      "source": [
        "***1.1 Variables and Basic Data Types***\n",
        "\n",
        "Let's start by understanding variables and basic data types in Python."
      ],
      "metadata": {
        "id": "uN4CoLrmUWWq"
      }
    },
    {
      "cell_type": "code",
      "source": [
        "# Variables and basic data types\n",
        "x = 10  # Integer\n",
        "y = 3.14  # Float\n",
        "name = \"John\"  # String\n",
        "is_true = True  # Boolean\n",
        "\n",
        "# Printing variables\n",
        "print(x)\n",
        "print(y)\n",
        "print(name)\n",
        "print(is_true)"
      ],
      "metadata": {
        "id": "f4WRSVm8T2m4"
      },
      "execution_count": null,
      "outputs": []
    },
    {
      "cell_type": "code",
      "source": [
        "# Basic math operations\n",
        "print(x + y)\n",
        "print(10 / 3)\n",
        "print(10 // 3)"
      ],
      "metadata": {
        "id": "UWAD1yaf7SyZ"
      },
      "execution_count": null,
      "outputs": []
    },
    {
      "cell_type": "markdown",
      "source": [
        "***1.2 Data Structures: Lists, Sets, and Dictionaries***\n",
        "\n",
        "Python provides various data structures to work with collections of data."
      ],
      "metadata": {
        "id": "DahAz_WWVkHJ"
      }
    },
    {
      "cell_type": "code",
      "source": [
        "# Lists are ordered, mutable collections of items.\n",
        "numbers = [1, 2, 3, 4, 5]\n",
        "print(numbers)  # Print the list\n",
        "print(numbers[0])  # Prints the first element of the list"
      ],
      "metadata": {
        "id": "yiXBz7w9Vorz"
      },
      "execution_count": null,
      "outputs": []
    },
    {
      "cell_type": "code",
      "source": [
        "# Assign a new value to the first element of the list\n",
        "# Lists can take values of different data types\n",
        "numbers[0] = \"one\"\n",
        "print(numbers)\n"
      ],
      "metadata": {
        "id": "AxsVr2F76YDs"
      },
      "execution_count": null,
      "outputs": []
    },
    {
      "cell_type": "code",
      "source": [
        "# Sets are unordered collections of unique items.\n",
        "unique_numbers = {1, 2, 3, 4, 5}\n",
        "print(unique_numbers)  # Prints the set\n",
        "\n",
        "# Checks if an element is in the set\n",
        "print(1 in unique_numbers)\n",
        "print(0 in unique_numbers)"
      ],
      "metadata": {
        "id": "7ZxUOv3U5pX0"
      },
      "execution_count": null,
      "outputs": []
    },
    {
      "cell_type": "code",
      "source": [
        "# Sets are mutable\n",
        "unique_numbers.add(0)\n",
        "unique_numbers.remove(5)\n",
        "print(unique_numbers)"
      ],
      "metadata": {
        "id": "DUOj0kxR66T7"
      },
      "execution_count": null,
      "outputs": []
    },
    {
      "cell_type": "code",
      "source": [
        "# Dictionaries are unordered collections of key-value pairs.\n",
        "student = {\"name\": \"Alice\", \"age\": 25, \"major\": [\"Computer Science\", \"Mathematics\"]}\n",
        "print(student[\"name\"])  # Prints the value associated with the key \"name\"\n",
        "print(student.keys())  # Prints the keys of the dictionary\n",
        "print(student.values())  # Prints the values of the dictionary\n",
        "print(student.items())  # Prints the key-value pairs of the dictionary"
      ],
      "metadata": {
        "id": "Ji-qYYwg5pfH"
      },
      "execution_count": null,
      "outputs": []
    },
    {
      "cell_type": "markdown",
      "source": [
        "***1.3 Conditional Statements***\n",
        "\n",
        "Conditional statements allow you to execute different blocks of code based on conditions."
      ],
      "metadata": {
        "id": "beu7ZQRJV7RS"
      }
    },
    {
      "cell_type": "code",
      "source": [
        "# Conditional statements\n",
        "x = 10\n",
        "\n",
        "print(x == 10)\n",
        "print(x != 10)"
      ],
      "metadata": {
        "id": "mAnOohHPWLN9"
      },
      "execution_count": null,
      "outputs": []
    },
    {
      "cell_type": "code",
      "source": [
        "# Logic based on conditional statements\n",
        "if x > 5:\n",
        "    print(\"x is greater than 5\")\n",
        "elif x == 5:\n",
        "    print(\"x is equal to 5\")\n",
        "else:\n",
        "    print(\"x is less than 5\")"
      ],
      "metadata": {
        "id": "J7-OPbKs7jCA"
      },
      "execution_count": null,
      "outputs": []
    },
    {
      "cell_type": "markdown",
      "source": [
        "***1.4 Loops: For and While***\n",
        "\n",
        "Loops allow you to iterate over sequences or execute code repeatedly."
      ],
      "metadata": {
        "id": "3ACj6-SNWfEN"
      }
    },
    {
      "cell_type": "code",
      "source": [
        "# Loops: For and While\n",
        "# For loop\n",
        "for i in range(5):\n",
        "    print(i)"
      ],
      "metadata": {
        "id": "9e_dGby_Wiev"
      },
      "execution_count": null,
      "outputs": []
    },
    {
      "cell_type": "code",
      "source": [
        "# While loop\n",
        "count = 0\n",
        "while count < 5:\n",
        "    print(count)\n",
        "    count += 1"
      ],
      "metadata": {
        "id": "sdl7KVDS0XSL"
      },
      "execution_count": null,
      "outputs": []
    },
    {
      "cell_type": "markdown",
      "source": [
        "***Functions***\n",
        "\n",
        "Functions are blocks of reusable code that perform a specific task."
      ],
      "metadata": {
        "id": "wSIKwbnnWk2J"
      }
    },
    {
      "cell_type": "code",
      "source": [
        "# Functions\n",
        "def greet(name):\n",
        "    print(\"Hello,\", name)\n",
        "\n",
        "greet(\"Alice\")  # Call the function"
      ],
      "metadata": {
        "id": "nLCxGmxaWwR2"
      },
      "execution_count": null,
      "outputs": []
    },
    {
      "cell_type": "code",
      "source": [
        "def add(a, b):\n",
        "    return a + b\n",
        "\n",
        "result = add(3, 4)\n",
        "print(result)"
      ],
      "metadata": {
        "id": "8hqIv5PQ0dTD"
      },
      "execution_count": null,
      "outputs": []
    },
    {
      "cell_type": "markdown",
      "source": [
        "***1.6 Class Activities***\n",
        "\n",
        "**Activity 1**: Declare a variable age and assign your age to it. Print the variable.\n",
        "\n",
        "**Activity 2**: Create a list fruits containing three different fruits, a set unique_colors containing some colors, and a dictionary person containing information about yourself (name, age, city). Print each collection.\n",
        "\n",
        "**Activity 3**: Write a program that takes a number input from the user and prints whether it's positive, negative, or zero.\n",
        "\n",
        "**Activity 4**: Write a program that prints the first 10 multiples of 3 using a loop.\n",
        "\n",
        "**Activity 5**: Write a function called calculate_area that takes the radius of a circle as input and returns its area. Test the function with a radius of 5."
      ],
      "metadata": {
        "id": "lDffgjjKVJVf"
      }
    },
    {
      "cell_type": "code",
      "source": [
        "# Activity 1\n"
      ],
      "metadata": {
        "id": "xGUFvK5-VS3T"
      },
      "execution_count": null,
      "outputs": []
    },
    {
      "cell_type": "code",
      "source": [
        "# Activity 2\n"
      ],
      "metadata": {
        "id": "tGn2IhALW6Do"
      },
      "execution_count": null,
      "outputs": []
    },
    {
      "cell_type": "code",
      "source": [
        "# Activity 3\n"
      ],
      "metadata": {
        "id": "MLP7LjMVW6Il"
      },
      "execution_count": null,
      "outputs": []
    },
    {
      "cell_type": "code",
      "source": [
        "# Activity 4\n"
      ],
      "metadata": {
        "id": "D-ucSAqRW6Ol"
      },
      "execution_count": null,
      "outputs": []
    },
    {
      "cell_type": "code",
      "source": [
        "# Activity 5\n"
      ],
      "metadata": {
        "id": "Nr3nlE3wW6Th"
      },
      "execution_count": null,
      "outputs": []
    },
    {
      "cell_type": "markdown",
      "source": [
        "Python provides a solid foundation for programming with its simple syntax and powerful features. With practice, you can build complex applications efficiently."
      ],
      "metadata": {
        "id": "WPj9vpMJXCDK"
      }
    }
  ]
}