{
  "nbformat": 4,
  "nbformat_minor": 0,
  "metadata": {
    "colab": {
      "provenance": [],
      "authorship_tag": "ABX9TyPKIzBdoem9D19YPT/efVgN",
      "include_colab_link": true
    },
    "kernelspec": {
      "name": "python3",
      "display_name": "Python 3"
    },
    "language_info": {
      "name": "python"
    }
  },
  "cells": [
    {
      "cell_type": "markdown",
      "metadata": {
        "id": "view-in-github",
        "colab_type": "text"
      },
      "source": [
        "<a href=\"https://colab.research.google.com/github/egynzhu-personal/siop-python-seminar-2024/blob/main/Basic_Syntax.ipynb\" target=\"_parent\"><img src=\"https://colab.research.google.com/assets/colab-badge.svg\" alt=\"Open In Colab\"/></a>"
      ]
    },
    {
      "cell_type": "markdown",
      "source": [
        "**1 Introduction to Python**\n",
        "\n",
        "Python is a versatile, high-level programming language known for its readability and simplicity. It's widely used in various domains including web development, data science, machine learning, and more."
      ],
      "metadata": {
        "id": "24zwSLOhTPnx"
      }
    },
    {
      "cell_type": "markdown",
      "source": [
        "***1.1 Variables and Basic Data Types***\n",
        "\n",
        "Let's start by understanding variables and basic data types in Python."
      ],
      "metadata": {
        "id": "uN4CoLrmUWWq"
      }
    },
    {
      "cell_type": "code",
      "source": [
        "# Variables and basic data types\n",
        "x = 10  # Integer\n",
        "y = 3.14  # Float\n",
        "name = \"John\"  # String\n",
        "is_true = True  # Boolean\n",
        "\n",
        "# Printing variables\n",
        "print(x)\n",
        "print(y)\n",
        "print(name)\n",
        "print(is_true)"
      ],
      "metadata": {
        "id": "f4WRSVm8T2m4"
      },
      "execution_count": null,
      "outputs": []
    },
    {
      "cell_type": "markdown",
      "source": [
        "***1.2 Data Structures: Lists, Sets, and Dictionaries***\n",
        "\n",
        "Python provides various data structures to work with collections of data."
      ],
      "metadata": {
        "id": "DahAz_WWVkHJ"
      }
    },
    {
      "cell_type": "code",
      "source": [
        "# Data Structures: Lists, Sets, and Dictionaries\n",
        "# Lists are ordered, mutable collections of items.\n",
        "numbers = [1, 2, 3, 4, 5]\n",
        "\n",
        "# Sets are unordered collections of unique items.\n",
        "unique_numbers = {1, 2, 3, 4, 5}\n",
        "\n",
        "# Dictionaries are unordered collections of key-value pairs.\n",
        "student = {\"name\": \"Alice\", \"age\": 25, \"major\": \"Computer Science\"}\n",
        "\n",
        "# Accessing elements\n",
        "print(numbers[0])  # Prints the first element of the list\n",
        "print(unique_numbers)  # Prints the set\n",
        "print(student[\"name\"])  # Prints the value associated with the key \"name\""
      ],
      "metadata": {
        "id": "yiXBz7w9Vorz"
      },
      "execution_count": null,
      "outputs": []
    },
    {
      "cell_type": "markdown",
      "source": [
        "***1.3 Conditional Statements***\n",
        "\n",
        "Conditional statements allow you to execute different blocks of code based on conditions."
      ],
      "metadata": {
        "id": "beu7ZQRJV7RS"
      }
    },
    {
      "cell_type": "code",
      "source": [
        "# Conditional statements\n",
        "x = 10\n",
        "\n",
        "if x > 5:\n",
        "    print(\"x is greater than 5\")\n",
        "elif x == 5:\n",
        "    print(\"x is equal to 5\")\n",
        "else:\n",
        "    print(\"x is less than 5\")"
      ],
      "metadata": {
        "id": "mAnOohHPWLN9"
      },
      "execution_count": null,
      "outputs": []
    },
    {
      "cell_type": "markdown",
      "source": [
        "***1.4 Loops: For and While***\n",
        "\n",
        "Loops allow you to iterate over sequences or execute code repeatedly."
      ],
      "metadata": {
        "id": "3ACj6-SNWfEN"
      }
    },
    {
      "cell_type": "code",
      "source": [
        "# Loops: For and While\n",
        "# For loop\n",
        "for i in range(5):\n",
        "    print(i)\n",
        "\n",
        "# While loop\n",
        "count = 0\n",
        "while count < 5:\n",
        "    print(count)\n",
        "    count += 1"
      ],
      "metadata": {
        "id": "9e_dGby_Wiev"
      },
      "execution_count": null,
      "outputs": []
    },
    {
      "cell_type": "markdown",
      "source": [
        "***Functions***\n",
        "\n",
        "Functions are blocks of reusable code that perform a specific task."
      ],
      "metadata": {
        "id": "wSIKwbnnWk2J"
      }
    },
    {
      "cell_type": "code",
      "source": [
        "# Functions\n",
        "def greet(name):\n",
        "    print(\"Hello,\", name)\n",
        "\n",
        "greet(\"Alice\")  # Call the function\n",
        "\n",
        "def add(a, b):\n",
        "    return a + b\n",
        "\n",
        "result = add(3, 4)\n",
        "print(result)"
      ],
      "metadata": {
        "id": "nLCxGmxaWwR2"
      },
      "execution_count": null,
      "outputs": []
    },
    {
      "cell_type": "markdown",
      "source": [
        "***1.6 Class Activities***\n",
        "\n",
        "**Activity 1**: Declare a variable age and assign your age to it. Print the variable.\n",
        "\n",
        "**Activity 2**: Create a list fruits containing three different fruits, a set unique_colors containing some colors, and a dictionary person containing information about yourself (name, age, city). Print each collection.\n",
        "\n",
        "**Activity 3**: Write a program that takes a number input from the user and prints whether it's positive, negative, or zero.\n",
        "\n",
        "**Activity 4**: Write a program that prints the first 10 multiples of 3 using a loop.\n",
        "\n",
        "**Activity 5**: Write a function called calculate_area that takes the radius of a circle as input and returns its area. Test the function with a radius of 5."
      ],
      "metadata": {
        "id": "lDffgjjKVJVf"
      }
    },
    {
      "cell_type": "code",
      "source": [
        "# Activity 1\n"
      ],
      "metadata": {
        "id": "xGUFvK5-VS3T"
      },
      "execution_count": null,
      "outputs": []
    },
    {
      "cell_type": "code",
      "source": [
        "# Activity 2\n"
      ],
      "metadata": {
        "id": "tGn2IhALW6Do"
      },
      "execution_count": null,
      "outputs": []
    },
    {
      "cell_type": "code",
      "source": [
        "# Activity 3\n"
      ],
      "metadata": {
        "id": "MLP7LjMVW6Il"
      },
      "execution_count": null,
      "outputs": []
    },
    {
      "cell_type": "code",
      "source": [
        "# Activity 4\n"
      ],
      "metadata": {
        "id": "D-ucSAqRW6Ol"
      },
      "execution_count": null,
      "outputs": []
    },
    {
      "cell_type": "code",
      "source": [
        "# Activity 5\n"
      ],
      "metadata": {
        "id": "Nr3nlE3wW6Th"
      },
      "execution_count": null,
      "outputs": []
    },
    {
      "cell_type": "markdown",
      "source": [
        "Python provides a solid foundation for programming with its simple syntax and powerful features. With practice, you can build complex applications efficiently."
      ],
      "metadata": {
        "id": "WPj9vpMJXCDK"
      }
    }
  ]
}
