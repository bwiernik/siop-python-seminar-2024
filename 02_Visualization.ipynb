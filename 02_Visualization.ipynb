{
  "cells": [
    {
      "cell_type": "markdown",
      "metadata": {
        "id": "view-in-github",
        "colab_type": "text"
      },
      "source": [
        "<a href=\"https://colab.research.google.com/github/egynzhu-personal/siop-python-seminar-2024/blob/main/02_Visualization.ipynb\" target=\"_parent\"><img src=\"https://colab.research.google.com/assets/colab-badge.svg\" alt=\"Open In Colab\"/></a>"
      ]
    },
    {
      "cell_type": "markdown",
      "source": [
        "**3 Data Visualization**\n",
        "\n",
        "\n",
        "In this tutorial, we will explore techniques to visualize HR-related data aimed at people analytics data scientists. Data visualization is a crucial skill for any data scientist as it helps in understanding patterns, trends, and insights hidden within the data."
      ],
      "metadata": {
        "id": "pQ1HI0S21gMU"
      }
    },
    {
      "cell_type": "markdown",
      "source": [
        "First, let's import the necessary libraries:"
      ],
      "metadata": {
        "id": "V2Fsqa241ybf"
      }
    },
    {
      "cell_type": "code",
      "execution_count": 1,
      "metadata": {
        "id": "navMcPj53YKx"
      },
      "outputs": [],
      "source": [
        "import pandas as pd\n",
        "import matplotlib.pyplot as plt\n",
        "import seaborn as sns"
      ]
    },
    {
      "cell_type": "markdown",
      "source": [
        "***3.1 Read Data and Exploratory Analysis***\n",
        "\n",
        "Before visualizing the data, it's essential to understand its structure and characteristics. Let's perform some basic exploratory data analysis."
      ],
      "metadata": {
        "id": "BzkAN2cj10fl"
      }
    },
    {
      "cell_type": "code",
      "source": [
        "# Read data from github repository and take a look at the first few rows\n",
        "# NOTE: The data is simulated\n",
        "data = pd.read_csv(\"https://github.com/egynzhu-personal/siop-python-seminar-2024/blob/main/data/hr_data.csv?raw=true\")\n",
        "data.head()"
      ],
      "metadata": {
        "id": "b3Px5yD4zzHR"
      },
      "execution_count": null,
      "outputs": []
    },
    {
      "cell_type": "code",
      "source": [
        "# Examine the data type of each column\n",
        "data.dtypes"
      ],
      "metadata": {
        "id": "UnE46ucU2f7O"
      },
      "execution_count": null,
      "outputs": []
    },
    {
      "cell_type": "code",
      "source": [
        "# Get summary statistics for continuous variables\n",
        "data.describe()"
      ],
      "metadata": {
        "id": "mJ-71QiBlyJQ"
      },
      "execution_count": null,
      "outputs": []
    },
    {
      "cell_type": "code",
      "source": [
        "# You can get the value counts for categorical variables\n",
        "data[\"department\"].value_counts()"
      ],
      "metadata": {
        "id": "iQ7hWDBBl7jn"
      },
      "execution_count": null,
      "outputs": []
    },
    {
      "cell_type": "code",
      "source": [
        "# Examine statistics by department\n",
        "data.drop(\"attrition\", axis=1).groupby(\"department\").mean()"
      ],
      "metadata": {
        "id": "g4NWVGkWzqw7"
      },
      "execution_count": null,
      "outputs": []
    },
    {
      "cell_type": "code",
      "source": [
        "# Examine the correlation matrix\n",
        "data.drop([\"department\", \"attrition\"], axis=1).corr()"
      ],
      "metadata": {
        "id": "WH_nzIISz6br"
      },
      "execution_count": null,
      "outputs": []
    },
    {
      "cell_type": "markdown",
      "source": [
        "***3.2 Plotting with Seaborn***\n",
        "\n",
        "Seaborn is a powerful Python data visualization library built on top of Matplotlib. It provides a high-level interface for creating attractive and informative statistical graphics. Seaborn simplifies the process of creating complex visualizations by offering intuitive functions that work seamlessly with Pandas DataFrames. With Seaborn, you can quickly generate a wide variety of plots, including scatter plots, bar plots, histograms, heatmaps, and more, with just a few lines of code. Additionally, Seaborn offers built-in themes and color palettes to enhance the aesthetics of your plots."
      ],
      "metadata": {
        "id": "6LgwCqbB3OVz"
      }
    },
    {
      "cell_type": "code",
      "execution_count": null,
      "metadata": {
        "id": "hfCNK9Ckpf2j"
      },
      "outputs": [],
      "source": [
        "# Tenure Distribution, Histogram\n",
        "sns.histplot(data[\"tenure\"],  # Column to plot\n",
        "             bins=8,  # Number of bins\n",
        "             kde=True,  # Kernel Density Estimates\n",
        "             color=\"salmon\")  # Color of bars\n",
        "plt.title(\"Tenure Distribution\")  # Set figure title\n",
        "plt.xlabel(\"Tenure\")  # Set x-axis label\n",
        "plt.ylabel(\"Frequency\")  # Set y-axis label"
      ]
    },
    {
      "cell_type": "code",
      "execution_count": null,
      "metadata": {
        "id": "g3eOAQgTqS6e"
      },
      "outputs": [],
      "source": [
        "# Age and Tenure Distribution by Department, Subplots\n",
        "fig, ax = plt.subplots(nrows=1, ncols=2, figsize=(12, 5))  # Set subplot properties\n",
        "sns.boxplot(ax=ax[0], x=\"department\", y=\"age\", data=data, hue = \"department\", palette=\"cool\")  # Plot in position 0\n",
        "ax[0].set_title(\"Age Distribution by Department\")  # Set subplot title\n",
        "sns.boxplot(ax=ax[1], x=\"department\", y=\"tenure\", data=data, hue = \"department\", palette=\"cool\")  # Plot in position 1\n",
        "ax[1].set_title(\"Tenure Distribution by Department\")  # Set subplot title"
      ]
    },
    {
      "cell_type": "code",
      "source": [
        "# Salary Distribution by Department, Multiple histagram\n",
        "sns.displot(data=data,  # Dataset used for plot\n",
        "            x=\"salary\",   # Variable to plot\n",
        "            col=\"department\",  # Variable to parse data\n",
        "            hue=\"department\",  # Variable to change color\n",
        "            palette=\"spring\")  # Color palette\n",
        "# Because of the subplots, set suptitle instead of title\n",
        "plt.suptitle(\"Salary Distribution by Department\", y=1.1, fontsize='xx-large')"
      ],
      "metadata": {
        "id": "lNKypWI0p-ik"
      },
      "execution_count": null,
      "outputs": []
    },
    {
      "cell_type": "code",
      "source": [
        "# Relation Plot\n",
        "sns.relplot(data=data, x=\"performance\", y=\"salary\", hue=\"attrition\", kind=\"scatter\", palette=\"Accent\")\n",
        "plt.title(\"Performance vs Salary by Attrition\")"
      ],
      "metadata": {
        "id": "_iAK5MNMGsse"
      },
      "execution_count": null,
      "outputs": []
    },
    {
      "cell_type": "code",
      "source": [
        "# Linear Model Plot\n",
        "sns.lmplot(data=data, x=\"performance\", y=\"salary\", hue=\"attrition\", scatter_kws={'alpha':0.3}, palette=\"Accent\")\n",
        "plt.title(\"Performance vs Salary by Attrition with Regression\")"
      ],
      "metadata": {
        "id": "rEkdbel6E2_8"
      },
      "execution_count": null,
      "outputs": []
    },
    {
      "cell_type": "markdown",
      "source": [
        "**Activity**: Now, it's your turn! Use the techniques learned in this tutorial to visualize the following aspects of the HR data:\n",
        "\n",
        "1. Distribution of performance by attrition.\n",
        "2. Relationship between salary and performance by department.\n",
        "Feel free to explore additional visualizations and share your findings with your peers."
      ],
      "metadata": {
        "id": "XcFCgWe15oUy"
      }
    },
    {
      "cell_type": "code",
      "source": [
        "# Activity 1\n"
      ],
      "metadata": {
        "id": "XH4AF2P07Pwl"
      },
      "execution_count": null,
      "outputs": []
    },
    {
      "cell_type": "code",
      "source": [
        "# Activity 2"
      ],
      "metadata": {
        "id": "t9JIC5kD7S_C"
      },
      "execution_count": null,
      "outputs": []
    },
    {
      "cell_type": "markdown",
      "source": [
        "**References**\n",
        "\n",
        "[Pandas Documentation](https://pandas.pydata.org/)\n",
        "\n",
        "[Matplotlib Documentation](https://matplotlib.org/)\n",
        "\n",
        "[Seaborn Documentation](https://seaborn.pydata.org/)"
      ],
      "metadata": {
        "id": "8JTVmWB27UOz"
      }
    }
  ],
  "metadata": {
    "colab": {
      "provenance": [],
      "authorship_tag": "ABX9TyOjxMTUypZNIBYg+1OccAeZ",
      "include_colab_link": true
    },
    "kernelspec": {
      "display_name": "Python 3",
      "name": "python3"
    },
    "language_info": {
      "name": "python"
    }
  },
  "nbformat": 4,
  "nbformat_minor": 0
}