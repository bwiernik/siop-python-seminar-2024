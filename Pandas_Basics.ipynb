{
  "nbformat": 4,
  "nbformat_minor": 0,
  "metadata": {
    "colab": {
      "provenance": [],
      "authorship_tag": "ABX9TyONYXtpv7xBVWU78Urs9ozT",
      "include_colab_link": true
    },
    "kernelspec": {
      "name": "python3",
      "display_name": "Python 3"
    },
    "language_info": {
      "name": "python"
    }
  },
  "cells": [
    {
      "cell_type": "markdown",
      "metadata": {
        "id": "view-in-github",
        "colab_type": "text"
      },
      "source": [
        "<a href=\"https://colab.research.google.com/github/egynzhu-personal/siop-python-seminar-2024/blob/main/Pandas_Basics.ipynb\" target=\"_parent\"><img src=\"https://colab.research.google.com/assets/colab-badge.svg\" alt=\"Open In Colab\"/></a>"
      ]
    },
    {
      "cell_type": "markdown",
      "source": [
        "**2 Introduction to Pandas**\n",
        "\n",
        "Pandas is a powerful library for data manipulation and analysis in Python. It provides data structures and functions to efficiently handle structured data."
      ],
      "metadata": {
        "id": "SvC-RzB1m8On"
      }
    },
    {
      "cell_type": "markdown",
      "source": [
        "***2.1 Series and DataFrame***\n",
        "\n",
        "Pandas primarily deals with two main data structures: Series and DataFrame."
      ],
      "metadata": {
        "id": "v87nb0OSnBjO"
      }
    },
    {
      "cell_type": "code",
      "execution_count": null,
      "metadata": {
        "id": "CGtvE2fFmfTy"
      },
      "outputs": [],
      "source": [
        "import pandas as pd\n",
        "\n",
        "# Creating a Series\n",
        "data = [1, 2, 3, 4, 5]\n",
        "s = pd.Series(data)\n",
        "s"
      ]
    },
    {
      "cell_type": "code",
      "source": [
        "# Creating a DataFrame\n",
        "data = {'First Name': ['Alice', 'Bob', 'Charlie', 'David'],\n",
        "        'Last Name': ['Clemons', 'Joseph', 'Bernard', 'Williams'],\n",
        "        'Age': [25, 30, 35, 40],\n",
        "        'Base Salary': [50000, 60000, 70000, 80000],\n",
        "        'Bonus': [1000, 2000, 3000, 4000]}\n",
        "df = pd.DataFrame(data)\n",
        "df"
      ],
      "metadata": {
        "id": "R3eoyI5YCZbp"
      },
      "execution_count": null,
      "outputs": []
    },
    {
      "cell_type": "markdown",
      "source": [
        "***2.2 Reading and Writing Data***\n",
        "\n",
        "Pandas can read data from various file formats such as CSV, Excel, and SQL databases."
      ],
      "metadata": {
        "id": "c5HXrBKAnLi3"
      }
    },
    {
      "cell_type": "code",
      "source": [
        "# Reading data from CSV\n",
        "df = pd.read_csv('https://github.com/egynzhu-personal/siop-python-seminar-2024/blob/main/data/salary.csv?raw=true')\n",
        "\n",
        "df.head(10)"
      ],
      "metadata": {
        "id": "I82SnF0hnVhr"
      },
      "execution_count": null,
      "outputs": []
    },
    {
      "cell_type": "code",
      "source": [
        "# Writing data to CSV\n",
        "df.to_csv('salary_copy.csv', index=False)"
      ],
      "metadata": {
        "id": "cPSHZPjtCvF3"
      },
      "execution_count": 4,
      "outputs": []
    },
    {
      "cell_type": "markdown",
      "source": [
        "***2.3 Handling Missing Values***\n",
        "\n",
        "Missing values are common in real-world datasets. Pandas provides functions to handle missing data."
      ],
      "metadata": {
        "id": "iU27jNLonZ1C"
      }
    },
    {
      "cell_type": "code",
      "source": [
        "# Checking for missing values\n",
        "df.isnull()"
      ],
      "metadata": {
        "id": "vjpPP5Fanbhc"
      },
      "execution_count": null,
      "outputs": []
    },
    {
      "cell_type": "code",
      "source": [
        "# Filling missing values with a specific value\n",
        "df.fillna(0)"
      ],
      "metadata": {
        "id": "5vuyQNBRCU61"
      },
      "execution_count": null,
      "outputs": []
    },
    {
      "cell_type": "code",
      "source": [
        "# Filling missing values with a function\n",
        "df.fillna(round(df.mean(axis=0, numeric_only=True), 1))"
      ],
      "metadata": {
        "id": "kIuVfXpwFjO-"
      },
      "execution_count": null,
      "outputs": []
    },
    {
      "cell_type": "code",
      "source": [
        "# Dropping rows with missing values\n",
        "df.dropna(inplace=True)\n",
        "df"
      ],
      "metadata": {
        "id": "r3WhAj0zCVBX"
      },
      "execution_count": null,
      "outputs": []
    },
    {
      "cell_type": "markdown",
      "source": [
        "***2.4 Data Manipulation***\n",
        "\n",
        "Pandas allows various operations for data manipulation including selection, filtering, and aggregation."
      ],
      "metadata": {
        "id": "BoM-hXM1ndlx"
      }
    },
    {
      "cell_type": "code",
      "source": [
        "# Selecting columns\n",
        "df['Age']"
      ],
      "metadata": {
        "id": "cNm3KBFrnlH_"
      },
      "execution_count": null,
      "outputs": []
    },
    {
      "cell_type": "code",
      "source": [
        "# Selecting multiple columns\n",
        "df[['First Name', 'Base Salary']]"
      ],
      "metadata": {
        "id": "V_A7wMaNBavI"
      },
      "execution_count": null,
      "outputs": []
    },
    {
      "cell_type": "code",
      "source": [
        "# Filtering rows based on a condition\n",
        "df[df['Age'] > 30]"
      ],
      "metadata": {
        "id": "GeVuuLfIBa3N"
      },
      "execution_count": null,
      "outputs": []
    },
    {
      "cell_type": "code",
      "source": [
        "# Multiple conditions\n",
        "df[(df['Age'] > 30) & (df['Base Salary'] > 60000)]"
      ],
      "metadata": {
        "id": "iMVGwCYNBa9e"
      },
      "execution_count": null,
      "outputs": []
    },
    {
      "cell_type": "code",
      "source": [
        "# Creating a new column based on a condition\n",
        "df['High Salary'] = df['Base Salary'] > 60000"
      ],
      "metadata": {
        "id": "f3CIYYiiCBau"
      },
      "execution_count": 15,
      "outputs": []
    },
    {
      "cell_type": "code",
      "source": [
        "# Applying functions to columns\n",
        "df['Full Name'] = df[['First Name', 'Last Name']].agg(' '.join, axis=1)\n",
        "\n",
        "# Simple mathematical operations can be applied directly to columns\n",
        "df['Total Compensation'] = df['Base Salary'] + df['Bonus']\n",
        "df"
      ],
      "metadata": {
        "id": "ugdXW-pIBbCr"
      },
      "execution_count": null,
      "outputs": []
    },
    {
      "cell_type": "code",
      "source": [
        "# Set a column as index\n",
        "df.index = df['Full Name']\n",
        "df"
      ],
      "metadata": {
        "id": "pynstiR8NnUz"
      },
      "execution_count": null,
      "outputs": []
    },
    {
      "cell_type": "code",
      "source": [
        "# Droping a column\n",
        "df.drop('Full Name', axis=1, inplace=True)\n",
        "df"
      ],
      "metadata": {
        "id": "j7MfuIIBNxsT"
      },
      "execution_count": null,
      "outputs": []
    },
    {
      "cell_type": "code",
      "source": [
        "# Sorting DataFrame by a column\n",
        "df_sorted = df.sort_values(by='Total Compensation', ascending=False)\n",
        "df_sorted"
      ],
      "metadata": {
        "id": "KMv-0AULBbHF"
      },
      "execution_count": null,
      "outputs": []
    },
    {
      "cell_type": "code",
      "source": [
        "# Grouping and Aggregation\n",
        "# Grouping data by a column and calculating aggregate functions\n",
        "grouped_data = df.groupby('High Salary').mean(numeric_only=True)\n",
        "grouped_data"
      ],
      "metadata": {
        "id": "6Gr5LY0SBqhC"
      },
      "execution_count": null,
      "outputs": []
    },
    {
      "cell_type": "markdown",
      "source": [
        "**Activity**: Read the data from the CSV file named 'sales_data.csv' using the following line.\n",
        "```\n",
        "pd.read_csv('https://github.com/egynzhu-personal/siop-python-seminar-2024/blob/main/data/sales_data.csv?raw=true')\n",
        "```\n",
        "Then perform the following operations:\n",
        "\n",
        "1. Display the first 5 rows of the DataFrame.\n",
        "2. Impute missing data with row means (axis=1).\n",
        "3. Create a new column named \"Total Sales\" and calculate the total sales for each row.\n",
        "4. Filter for rows with total sales > 250 and January sales > 0.\n",
        "5. Group the data by the \"Region\" column and calculate the average sales for each region."
      ],
      "metadata": {
        "id": "OKxNWZFEnnjO"
      }
    },
    {
      "cell_type": "code",
      "source": [
        "# Activity\n",
        "df = pd.read_csv('https://github.com/egynzhu-personal/siop-python-seminar-2024/blob/main/data/sales_data.csv?raw=true')"
      ],
      "metadata": {
        "id": "EOYiML81n-XH"
      },
      "execution_count": null,
      "outputs": []
    },
    {
      "cell_type": "markdown",
      "source": [
        "Pandas is an essential library for data analysis and manipulation in Python. It simplifies many data-related tasks and provides powerful tools for working with structured data."
      ],
      "metadata": {
        "id": "Jx7rsArKn9cc"
      }
    }
  ]
}