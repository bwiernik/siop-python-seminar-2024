{
  "nbformat": 4,
  "nbformat_minor": 0,
  "metadata": {
    "colab": {
      "provenance": [],
      "authorship_tag": "ABX9TyOvPCd1GBjyNPJ72IwtOjct",
      "include_colab_link": true
    },
    "kernelspec": {
      "name": "python3",
      "display_name": "Python 3"
    },
    "language_info": {
      "name": "python"
    }
  },
  "cells": [
    {
      "cell_type": "markdown",
      "metadata": {
        "id": "view-in-github",
        "colab_type": "text"
      },
      "source": [
        "<a href=\"https://colab.research.google.com/github/egynzhu-personal/siop-python-seminar-2024/blob/main/OOP.ipynb\" target=\"_parent\"><img src=\"https://colab.research.google.com/assets/colab-badge.svg\" alt=\"Open In Colab\"/></a>"
      ]
    },
    {
      "cell_type": "code",
      "source": [
        "import numpy as np\n",
        "from sklearn.linear_model import LinearRegression as regressor\n"
      ],
      "metadata": {
        "id": "mt9pxCm0UdnF"
      },
      "execution_count": null,
      "outputs": []
    },
    {
      "cell_type": "markdown",
      "source": [
        "# Example Classes"
      ],
      "metadata": {
        "id": "7EDQa_x1NySv"
      }
    },
    {
      "cell_type": "markdown",
      "source": [
        "## A class that stores x and y coordinates"
      ],
      "metadata": {
        "id": "WGvoz_NHVDn2"
      }
    },
    {
      "cell_type": "code",
      "source": [
        "class Point:\n",
        "    def __init__(self, x=0, y=0):\n",
        "        self.x = x\n",
        "        self.y = y\n",
        "\n",
        "    def display(self):\n",
        "        print(f\"Point coordinates: ({self.x}, {self.y})\")"
      ],
      "metadata": {
        "colab": {
          "base_uri": "https://localhost:8080/"
        },
        "id": "TbTdqZHqOChG",
        "outputId": "ea101d65-6297-499d-a5ce-ae4ca3decef1"
      },
      "execution_count": null,
      "outputs": [
        {
          "output_type": "stream",
          "name": "stdout",
          "text": [
            "Point coordinates: (5, 10)\n",
            "Point coordinates: (0, 0)\n"
          ]
        }
      ]
    },
    {
      "cell_type": "code",
      "source": [
        "# Creating an instance of Point\n",
        "p1 = Point(5, 10)\n",
        "\n",
        "# Using the display method\n",
        "p1.display()  # Output: Point coordinates: (5, 10)\n",
        "\n",
        "# Creating a default point (0, 0)\n",
        "p2 = Point()\n",
        "p2.display()  # Output: Point coordinates: (0, 0)"
      ],
      "metadata": {
        "id": "v1KjW8EXQAgQ"
      },
      "execution_count": null,
      "outputs": []
    },
    {
      "cell_type": "markdown",
      "source": [
        "## A class that performs basic arithmetic"
      ],
      "metadata": {
        "id": "Iz1B_rYGVHTk"
      }
    },
    {
      "cell_type": "code",
      "source": [
        "class ArithmeticOperations:\n",
        "    def __init__(self, num1, num2):\n",
        "        self.num1 = num1\n",
        "        self.num2 = num2\n",
        "\n",
        "    def addition(self):\n",
        "        return self.num1 + self.num2\n",
        "\n",
        "    def subtraction(self):\n",
        "        return self.num1 - self.num2\n",
        "\n",
        "    def multiplication(self):\n",
        "        return self.num1 * self.num2\n",
        "\n",
        "    def division(self):\n",
        "        if self.num2 == 0:\n",
        "            return \"Cannot divide by zero.\"\n",
        "        else:\n",
        "            return self.num1 / self.num2"
      ],
      "metadata": {
        "colab": {
          "base_uri": "https://localhost:8080/"
        },
        "id": "09LpP6QzOhfd",
        "outputId": "77b17817-ed59-4b52-a04f-5d0d4e9525ef"
      },
      "execution_count": null,
      "outputs": [
        {
          "output_type": "stream",
          "name": "stdout",
          "text": [
            "Addition: 15\n",
            "Subtraction: 5\n",
            "Multiplication: 50\n",
            "Division: 2.0\n"
          ]
        }
      ]
    },
    {
      "cell_type": "code",
      "source": [
        "\n",
        "# Creating an instance of ArithmeticOperations\n",
        "arithmetic = ArithmeticOperations(10, 5)\n",
        "\n",
        "# Performing arithmetic operations\n",
        "print(\"Addition:\", arithmetic.addition())         # Output: Addition: 15\n",
        "print(\"Subtraction:\", arithmetic.subtraction())   # Output: Subtraction: 5\n",
        "print(\"Multiplication:\", arithmetic.multiplication()) # Output: Multiplication: 50\n",
        "print(\"Division:\", arithmetic.division())         # Output: Division: 2.0"
      ],
      "metadata": {
        "id": "PAI0xxRfQDYO"
      },
      "execution_count": null,
      "outputs": []
    },
    {
      "cell_type": "markdown",
      "source": [
        "## Class that does Linear Regression"
      ],
      "metadata": {
        "id": "9StSzojjVWRC"
      }
    },
    {
      "cell_type": "code",
      "source": [
        "\n",
        "class Regression:\n",
        "    def __init__(self):\n",
        "        self.model = regressor()\n",
        "\n",
        "    def fit(self, X, y):\n",
        "        \"\"\"\n",
        "        Fit a linear regression model to the given dataset.\n",
        "\n",
        "        Parameters:\n",
        "        X : array-like, shape (n_samples, n_features)\n",
        "            Training data.\n",
        "        y : array-like, shape (n_samples,)\n",
        "            Target values.\n",
        "\n",
        "        Returns:\n",
        "        self : object\n",
        "            Returns the instance itself.\n",
        "        \"\"\"\n",
        "        self.model.fit(X, y)\n",
        "        return self\n",
        "\n",
        "    def predict(self, X):\n",
        "        \"\"\"\n",
        "        Predict target values for the given data.\n",
        "\n",
        "        Parameters:\n",
        "        X : array-like, shape (n_samples, n_features)\n",
        "            Samples.\n",
        "\n",
        "        Returns:\n",
        "        y_pred : array-like, shape (n_samples,)\n",
        "            Predicted target values.\n",
        "        \"\"\"\n",
        "        return self.model.predict(X)"
      ],
      "metadata": {
        "id": "vWY-igrqUXgs"
      },
      "execution_count": null,
      "outputs": []
    },
    {
      "cell_type": "code",
      "source": [
        "# Example usage\n",
        "\n",
        "# Sample data\n",
        "X_train = np.array([[1], [2], [3], [4]])\n",
        "y_train = np.array([2, 4, 5, 4])\n",
        "\n",
        "# Create an instance of LinearRegression class\n",
        "model = Regression()\n",
        "\n",
        "# Fit the model to the training data\n",
        "model.fit(X_train, y_train)\n",
        "\n",
        "# Predict values for new data\n",
        "X_test = np.array([[5], [6]])\n",
        "y_pred = model.predict(X_test)\n",
        "\n",
        "print(\"Predicted values:\", y_pred)"
      ],
      "metadata": {
        "colab": {
          "base_uri": "https://localhost:8080/"
        },
        "id": "JTDnjXKBUbeI",
        "outputId": "2874a886-0e7d-4527-9afb-da730836614b"
      },
      "execution_count": null,
      "outputs": [
        {
          "output_type": "stream",
          "name": "stdout",
          "text": [
            "Predicted values: [5.5 6.2]\n"
          ]
        }
      ]
    },
    {
      "cell_type": "markdown",
      "source": [
        "## A class that contains basic attributes about a car"
      ],
      "metadata": {
        "id": "n3ziY5p7VOyZ"
      }
    },
    {
      "cell_type": "code",
      "source": [
        "class Car:\n",
        "    # Class variable\n",
        "    total_cars = 0\n",
        "\n",
        "    def __init__(self, make, model, year):\n",
        "        self.make = make\n",
        "        self.model = model\n",
        "        self.year = year\n",
        "        Car.total_cars += 1  # Increment the total_cars each time a new car is created\n",
        "\n",
        "    def description(self):\n",
        "        return f\"{self.year} {self.make} {self.model}\""
      ],
      "metadata": {
        "colab": {
          "base_uri": "https://localhost:8080/"
        },
        "id": "4fjTm9coN7hm",
        "outputId": "00202722-830f-46ae-c44e-e0d7624e7197"
      },
      "execution_count": null,
      "outputs": [
        {
          "output_type": "stream",
          "name": "stdout",
          "text": [
            "Total cars: 2\n"
          ]
        }
      ]
    },
    {
      "cell_type": "code",
      "source": [
        "# Creating car instances\n",
        "car1 = Car(\"Toyota\", \"Corolla\", 2020)\n",
        "car2 = Car(\"Ford\", \"Mustang\", 2022)\n",
        "\n",
        "# Accessing class variable\n",
        "print(f\"Total cars: {Car.total_cars}\")  # Total cars: 2"
      ],
      "metadata": {
        "id": "PUa5BkhBQF4-"
      },
      "execution_count": null,
      "outputs": []
    },
    {
      "cell_type": "markdown",
      "source": [
        "## Inheritance from the Car class"
      ],
      "metadata": {
        "id": "Lb_uzDNkONSC"
      }
    },
    {
      "cell_type": "markdown",
      "source": [
        "#### Inheritance\n",
        "\n",
        "*   A fundamental concept in\n",
        "object-oriented programming (OOP)\n",
        "*   We can create a new class, called a subclass\n",
        "*   This new class can inherit attributes or methods from a super class (or parent)\n",
        "*   We can access all attributes or methods from the parent class\n",
        "*   We can also override methods or attributes from the parent class\n",
        "*   Additionally, the subclass can have additional methods or attributes\n",
        "\n"
      ],
      "metadata": {
        "id": "ENzcONaROkCK"
      }
    },
    {
      "cell_type": "code",
      "source": [
        "class ElectricCar(Car):  # Inherits from Car\n",
        "    def __init__(self, make, model, year, battery_size):\n",
        "        super().__init__(make, model, year)  # Initialize attributes of the parent class\n",
        "        self.battery_size = battery_size  # Additional attribute for ElectricCar\n",
        "\n",
        "    # Overriding the description method\n",
        "    def description(self):\n",
        "        return f\"{self.year} {self.make} {self.model} with a {self.battery_size}-kWh battery.\"\n",
        "\n",
        "    def start(self):\n",
        "      return f\"vroooom vroooom (but in Hans Zimmer and quiet)\""
      ],
      "metadata": {
        "id": "NFOxK-mOOMoE"
      },
      "execution_count": null,
      "outputs": []
    },
    {
      "cell_type": "code",
      "source": [
        "\n",
        "# Creating an ElectricCar instance\n",
        "electric_car = ElectricCar(\"Tesla\", \"Model S\", 2019, 75)\n",
        "\n",
        "# Accessing overridden method\n",
        "print(electric_car.description())  # 2019 Tesla Model S with a 75-kWh battery.\n",
        "\n",
        "# Use the new method in the child class\n",
        "print(electric_car.start())  # vroooom vroooom (but in Hans Zimmer and quiet)"
      ],
      "metadata": {
        "colab": {
          "base_uri": "https://localhost:8080/"
        },
        "id": "xOsAB7I8QHlP",
        "outputId": "a435584e-1298-4f46-f10b-f8d03c18de75"
      },
      "execution_count": null,
      "outputs": [
        {
          "output_type": "stream",
          "name": "stdout",
          "text": [
            "2019 Tesla Model S with a 75-kWh battery.\n",
            "vroooom vroooom (but in Hans Zimmer and quiet)\n"
          ]
        }
      ]
    }
  ]
}