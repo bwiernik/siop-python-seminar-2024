{
  "nbformat": 4,
  "nbformat_minor": 0,
  "metadata": {
    "colab": {
      "provenance": [],
      "include_colab_link": true
    },
    "kernelspec": {
      "name": "python3",
      "display_name": "Python 3"
    },
    "language_info": {
      "name": "python"
    }
  },
  "cells": [
    {
      "cell_type": "markdown",
      "metadata": {
        "id": "view-in-github",
        "colab_type": "text"
      },
      "source": [
        "<a href=\"https://colab.research.google.com/github/egynzhu-personal/siop-python-seminar-2024/blob/main/03_OOP.ipynb\" target=\"_parent\"><img src=\"https://colab.research.google.com/assets/colab-badge.svg\" alt=\"Open In Colab\"/></a>"
      ]
    },
    {
      "cell_type": "markdown",
      "source": [
        "# Classes"
      ],
      "metadata": {
        "id": "7EDQa_x1NySv"
      }
    },
    {
      "cell_type": "markdown",
      "source": [
        "## Object oriented programming\n",
        "- Object-oriented programming (OOP) is a programming paradigm based on the concept of \"objects,\" which can contain **data (attributes)** and **functions (methods)**.\n",
        "- It organizes code around these objects and their interactions."
      ],
      "metadata": {
        "id": "tEvcGgeeJIPE"
      }
    },
    {
      "cell_type": "markdown",
      "source": [
        "## A class in Python is a blueprint for creating objects.\n",
        "- It defines a set of **attributes (variables)** and **methods (functions)** that the objects will have.\n",
        "- Think of it like a template or a cookie cutter for creating specific instances of objects with shared characteristics and behaviors."
      ],
      "metadata": {
        "id": "8Qxj4YM3I1IW"
      }
    },
    {
      "cell_type": "markdown",
      "source": [
        "## Let's look at an example class that stores x and y coordinates"
      ],
      "metadata": {
        "id": "WGvoz_NHVDn2"
      }
    },
    {
      "cell_type": "markdown",
      "source": [
        "### We will have:\n",
        "1. An init method: this defines the attributes (variables) of the class\n",
        "2. A basic method to display the attributes"
      ],
      "metadata": {
        "id": "_XLzjgOvLWMp"
      }
    },
    {
      "cell_type": "code",
      "source": [
        "class Point:\n",
        "  # this is called the init method\n",
        "  # when a class is created, this method is automatically called\n",
        "  # the purpose of the init is to initialize\n",
        "    def __init__(self, x=0, y=0):\n",
        "        self.x = x\n",
        "        self.y = y\n",
        "\n",
        "  # this is a class method\n",
        "  # it is a function defined within a class\n",
        "  # it can modify and access the objects attributes\n",
        "    def display(self):\n",
        "        print(f\"Point coordinates: ({self.x}, {self.y})\")"
      ],
      "metadata": {
        "id": "TbTdqZHqOChG"
      },
      "execution_count": null,
      "outputs": []
    },
    {
      "cell_type": "code",
      "source": [
        "# Creating an instance of Point\n",
        "p1 = Point(5, 10)\n",
        "\n",
        "# Using the display method\n",
        "p1.display()  # Output: Point coordinates: (5, 10)"
      ],
      "metadata": {
        "id": "v1KjW8EXQAgQ",
        "outputId": "9e458ca3-660e-4eb4-a02d-2923d21ffad8",
        "colab": {
          "base_uri": "https://localhost:8080/"
        }
      },
      "execution_count": null,
      "outputs": [
        {
          "output_type": "stream",
          "name": "stdout",
          "text": [
            "Point coordinates: (5, 10)\n"
          ]
        }
      ]
    },
    {
      "cell_type": "code",
      "source": [
        "# Creating a default point (0, 0)\n",
        "p2 = Point()\n",
        "p2.display()  # Output: Point coordinates: (0, 0)"
      ],
      "metadata": {
        "id": "GriRHzfsJASv",
        "outputId": "15eed8b5-c8f3-44e7-9b5f-1029d769dd77",
        "colab": {
          "base_uri": "https://localhost:8080/"
        }
      },
      "execution_count": null,
      "outputs": [
        {
          "output_type": "stream",
          "name": "stdout",
          "text": [
            "Point coordinates: (0, 0)\n"
          ]
        }
      ]
    },
    {
      "cell_type": "markdown",
      "source": [
        "## A class that performs basic arithmetic"
      ],
      "metadata": {
        "id": "Iz1B_rYGVHTk"
      }
    },
    {
      "cell_type": "code",
      "source": [
        "class ArithmeticOperations:\n",
        "\n",
        "    # the attributes this class will have\n",
        "    # we will initialize it with two numbers\n",
        "    def __init__(self, num1, num2):\n",
        "        self.num1 = num1\n",
        "        self.num2 = num2\n",
        "\n",
        "    def addition(self):\n",
        "        return self.num1 + self.num2\n",
        "\n",
        "    def subtraction(self):\n",
        "        return self.num1 - self.num2\n",
        "\n",
        "    def multiplication(self):\n",
        "        return self.num1 * self.num2\n",
        "\n",
        "    def division(self):\n",
        "        if self.num2 == 0:\n",
        "            return \"Cannot divide by zero.\"\n",
        "        else:\n",
        "            return self.num1 / self.num2"
      ],
      "metadata": {
        "id": "09LpP6QzOhfd"
      },
      "execution_count": null,
      "outputs": []
    },
    {
      "cell_type": "code",
      "source": [
        "# Creating an instance of ArithmeticOperations\n",
        "arithmetic = ArithmeticOperations(10, 5)"
      ],
      "metadata": {
        "id": "PAI0xxRfQDYO"
      },
      "execution_count": null,
      "outputs": []
    },
    {
      "cell_type": "code",
      "source": [
        "# Performing arithmetic operations\n",
        "print(\"Addition:\", arithmetic.addition())         # Output: Addition: 15"
      ],
      "metadata": {
        "id": "zx_pxOuHJeAd",
        "outputId": "c0569f11-01b5-4cad-c92e-cb294ee1ecf9",
        "colab": {
          "base_uri": "https://localhost:8080/"
        }
      },
      "execution_count": null,
      "outputs": [
        {
          "output_type": "stream",
          "name": "stdout",
          "text": [
            "Addition: 15\n"
          ]
        }
      ]
    },
    {
      "cell_type": "code",
      "source": [
        "print(\"Subtraction:\", arithmetic.subtraction())   # Output: Subtraction: 5"
      ],
      "metadata": {
        "id": "ZGEM7SYVJhHD",
        "outputId": "2b542c04-194a-4c9a-8fb3-8f5ab693763b",
        "colab": {
          "base_uri": "https://localhost:8080/"
        }
      },
      "execution_count": null,
      "outputs": [
        {
          "output_type": "stream",
          "name": "stdout",
          "text": [
            "Subtraction: 5\n"
          ]
        }
      ]
    },
    {
      "cell_type": "code",
      "source": [
        "print(\"Multiplication:\", arithmetic.multiplication()) # Output: Multiplication: 50\n",
        "print(\"Division:\", arithmetic.division())         # Output: Division: 2.0"
      ],
      "metadata": {
        "id": "PQ_X1EyCJjTW",
        "outputId": "46759751-701b-42c9-cf2a-b504b188df08",
        "colab": {
          "base_uri": "https://localhost:8080/"
        }
      },
      "execution_count": null,
      "outputs": [
        {
          "output_type": "stream",
          "name": "stdout",
          "text": [
            "Multiplication: 50\n",
            "Division: 2.0\n"
          ]
        }
      ]
    },
    {
      "cell_type": "code",
      "source": [
        "arithmetic_2 = ArithmeticOperations(10, 0)\n",
        "print(\"Division:\", arithmetic_2.division())         # Output: Division: 2.0"
      ],
      "metadata": {
        "id": "wZ6JwKISJoDd",
        "outputId": "cf9ab3d4-fb90-4ea0-dca4-ff79949aa25b",
        "colab": {
          "base_uri": "https://localhost:8080/"
        }
      },
      "execution_count": null,
      "outputs": [
        {
          "output_type": "stream",
          "name": "stdout",
          "text": [
            "Division: Cannot divide by zero.\n"
          ]
        }
      ]
    },
    {
      "cell_type": "markdown",
      "source": [
        "## An employee example class"
      ],
      "metadata": {
        "id": "JhxezkkDMRiP"
      }
    },
    {
      "cell_type": "code",
      "source": [
        "class Employee:\n",
        "\n",
        "    def __init__(self, name, age, position, salary):\n",
        "        self.name = name\n",
        "        self.age = age\n",
        "        self.position = position\n",
        "        self.salary = salary\n",
        "\n",
        "    def display_employee_info(self):\n",
        "        print(f\"Name: {self.name}\")\n",
        "        print(f\"Age: {self.age}\")\n",
        "        print(f\"Position: {self.position}\")\n",
        "        print(f\"Salary: ${self.salary}\")"
      ],
      "metadata": {
        "id": "aSaWimwPMTR5"
      },
      "execution_count": null,
      "outputs": []
    },
    {
      "cell_type": "code",
      "source": [
        "# Creating an instance of Employee\n",
        "employee1 = Employee(\"John Doe\", 35, \"Software Developer\", 75000)\n",
        "\n",
        "# Displaying employee information\n",
        "employee1.display_employee_info()"
      ],
      "metadata": {
        "id": "G2JG8qIbMU3u",
        "outputId": "82ae7ec8-26f6-4ba7-f4a9-d330b39ae257",
        "colab": {
          "base_uri": "https://localhost:8080/"
        }
      },
      "execution_count": null,
      "outputs": [
        {
          "output_type": "stream",
          "name": "stdout",
          "text": [
            "Name: John Doe\n",
            "Age: 35\n",
            "Position: Software Developer\n",
            "Salary: $75000\n"
          ]
        }
      ]
    },
    {
      "cell_type": "markdown",
      "source": [
        "## A more advanced employee survey class"
      ],
      "metadata": {
        "id": "exbwco4kOmd6"
      }
    },
    {
      "cell_type": "code",
      "source": [
        "class EmployeeSurvey:\n",
        "\n",
        "    def __init__(self, survey_name):\n",
        "        self.survey_name = survey_name\n",
        "        self.responses = []\n",
        "\n",
        "    def add_response(self, employee_id, satisfaction_score, feedback):\n",
        "        response = {\n",
        "            'employee_id': employee_id,\n",
        "            'satisfaction_score': satisfaction_score,\n",
        "            'feedback': feedback\n",
        "        }\n",
        "        self.responses.append(response)\n",
        "\n",
        "    def calculate_average_score(self):\n",
        "        if not self.responses:\n",
        "          print('we dont have any responses!')\n",
        "          return 0\n",
        "\n",
        "        total_score = sum(response['satisfaction_score'] for response in self.responses)\n",
        "        average_score = total_score / len(self.responses)\n",
        "        return average_score\n",
        "\n",
        "    def identify_areas_for_improvement(self):\n",
        "        feedbacks = [response['feedback'] for response in self.responses if response['satisfaction_score'] < 70]\n",
        "        if not feedbacks:\n",
        "            return \"No areas for improvement identified.\"\n",
        "\n",
        "        return \"Areas for Improvement:\\n\" + \"\\n\".join(feedbacks)\n",
        "\n",
        "# Example usage:\n",
        "survey = EmployeeSurvey(\"Employee Satisfaction Survey\")"
      ],
      "metadata": {
        "id": "aQpfOZJIOo7A"
      },
      "execution_count": null,
      "outputs": []
    },
    {
      "cell_type": "code",
      "source": [
        "# Add survey responses\n",
        "survey.add_response(\"E001\", 85, \"The team collaboration is excellent.\")\n",
        "survey.add_response(\"E002\", 65, \"Work-life balance needs improvement.\")\n",
        "survey.add_response(\"E003\", 90, \"Great leadership and clear communication.\")\n",
        "\n",
        "# Display average score\n",
        "print(f\"Average Satisfaction Score: {survey.calculate_average_score():.2f}\")\n",
        "\n",
        "# Identify areas for improvement\n",
        "print(survey.identify_areas_for_improvement())"
      ],
      "metadata": {
        "id": "_x68C2oHOqo2",
        "outputId": "8506513b-f10c-446a-ac96-4b7ccdbe1cda",
        "colab": {
          "base_uri": "https://localhost:8080/"
        }
      },
      "execution_count": null,
      "outputs": [
        {
          "output_type": "stream",
          "name": "stdout",
          "text": [
            "Average Satisfaction Score: 80.00\n",
            "Areas for Improvement:\n",
            "Work-life balance needs improvement.\n"
          ]
        }
      ]
    },
    {
      "cell_type": "code",
      "source": [
        "# Add survey responses\n",
        "survey.add_response(\"E001\", 30, \"The team collaboration is excellent.\")\n",
        "survey.add_response(\"E002\", 20, \"Work-life balance needs improvement.\")\n",
        "survey.add_response(\"E003\", 10, \"Great leadership and clear communication.\")\n",
        "\n",
        "# Display average score\n",
        "print(f\"Average Satisfaction Score: {survey.calculate_average_score():.2f}\")\n",
        "\n",
        "# Identify areas for improvement\n",
        "print(survey.identify_areas_for_improvement())"
      ],
      "metadata": {
        "id": "R4Yiz1CnPFKG",
        "outputId": "aa14bd2e-9578-44d1-882a-03133175b52d",
        "colab": {
          "base_uri": "https://localhost:8080/"
        }
      },
      "execution_count": null,
      "outputs": [
        {
          "output_type": "stream",
          "name": "stdout",
          "text": [
            "Average Satisfaction Score: 50.00\n",
            "Areas for Improvement:\n",
            "Work-life balance needs improvement.\n",
            "The team collaboration is excellent.\n",
            "Work-life balance needs improvement.\n",
            "Great leadership and clear communication.\n"
          ]
        }
      ]
    },
    {
      "cell_type": "markdown",
      "source": [
        "# Activity\n",
        "1. Create a class that gives a raise to an employee\n"
      ],
      "metadata": {
        "id": "KyAjzeM1Pr-P"
      }
    },
    {
      "cell_type": "code",
      "source": [
        "class Employee:\n",
        "\n",
        "    def __init__(self, name, age, position, salary):\n",
        "        self.name = name\n",
        "        self.age = age\n",
        "        self.position = position\n",
        "        self.salary = salary\n",
        "\n",
        "    def display_employee_info(self):\n",
        "        print(f\"Name: {self.name}\")\n",
        "        print(f\"Age: {self.age}\")\n",
        "        print(f\"Position: {self.position}\")\n",
        "        print(f\"Salary: ${self.salary}\")\n",
        "\n",
        "    def give_raise(self, percentage):\n",
        "        \"\"\"\n",
        "        Increases the employee's salary by the given percentage.\n",
        "\n",
        "        Parameters:\n",
        "        - percentage (float ranging 0-1, e.g., .2): The percentage increase in salary.\n",
        "\n",
        "        Expected Behavior:\n",
        "        This method should increase the employee's salary by the given percentage.\n",
        "        If the provided percentage is negative, it should print a message indicating that the percentage should be positive.\n",
        "\n",
        "        Example usage:\n",
        "        employee1 = Employee(\"John Doe\", 30, \"Software Developer\", 75000)\n",
        "\n",
        "        # Display employee information\n",
        "        print(\"Before raise:\")\n",
        "        employee1.display_employee_info()\n",
        "\n",
        "        # Give the employee a raise of 10%\n",
        "        employee1.give_raise(10)\n",
        "\n",
        "        # Display updated employee information\n",
        "        print(\"\\nAfter raise:\")\n",
        "        employee1.display_employee_info()\n",
        "\n",
        "        \"\"\"\n",
        "        pass"
      ],
      "metadata": {
        "id": "rEtf6IqdPtsU"
      },
      "execution_count": null,
      "outputs": []
    }
  ]
}